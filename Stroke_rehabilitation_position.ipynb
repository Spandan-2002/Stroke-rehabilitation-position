{
  "nbformat": 4,
  "nbformat_minor": 0,
  "metadata": {
    "colab": {
      "provenance": [],
      "gpuType": "V28",
      "mount_file_id": "1QbnGLxNpKvwAG3ZM0kmW7HYiRZZggH-n",
      "authorship_tag": "ABX9TyMsTSyl9XbCkIc9Mltge0mq",
      "include_colab_link": true
    },
    "kernelspec": {
      "name": "python3",
      "display_name": "Python 3"
    },
    "language_info": {
      "name": "python"
    },
    "accelerator": "TPU"
  },
  "cells": [
    {
      "cell_type": "markdown",
      "metadata": {
        "id": "view-in-github",
        "colab_type": "text"
      },
      "source": [
        "<a href=\"https://colab.research.google.com/github/Spandan-2002/Stroke-rehabilitation-position/blob/main/Stroke_rehabilitation_position.ipynb\" target=\"_parent\"><img src=\"https://colab.research.google.com/assets/colab-badge.svg\" alt=\"Open In Colab\"/></a>"
      ]
    },
    {
      "cell_type": "code",
      "source": [
        "!pip3 install torch torchvision torchaudio\n",
        "!pip install -q mediapipe\n",
        "!pip install opencv-python\n"
      ],
      "metadata": {
        "colab": {
          "base_uri": "https://localhost:8080/"
        },
        "id": "lXcjgSJfDiFQ",
        "outputId": "7714ed16-cf2c-43fb-fb9b-046741b057c7"
      },
      "execution_count": 11,
      "outputs": [
        {
          "output_type": "stream",
          "name": "stdout",
          "text": [
            "Requirement already satisfied: torch in /usr/local/lib/python3.11/dist-packages (2.5.1+cpu)\n",
            "Requirement already satisfied: torchvision in /usr/local/lib/python3.11/dist-packages (0.20.1+cpu)\n",
            "Requirement already satisfied: torchaudio in /usr/local/lib/python3.11/dist-packages (2.5.1+cpu)\n",
            "Requirement already satisfied: filelock in /usr/local/lib/python3.11/dist-packages (from torch) (3.17.0)\n",
            "Requirement already satisfied: typing-extensions>=4.8.0 in /usr/local/lib/python3.11/dist-packages (from torch) (4.12.2)\n",
            "Requirement already satisfied: networkx in /usr/local/lib/python3.11/dist-packages (from torch) (3.4.2)\n",
            "Requirement already satisfied: jinja2 in /usr/local/lib/python3.11/dist-packages (from torch) (3.1.5)\n",
            "Requirement already satisfied: fsspec in /usr/local/lib/python3.11/dist-packages (from torch) (2024.12.0)\n",
            "Requirement already satisfied: sympy==1.13.1 in /usr/local/lib/python3.11/dist-packages (from torch) (1.13.1)\n",
            "Requirement already satisfied: mpmath<1.4,>=1.1.0 in /usr/local/lib/python3.11/dist-packages (from sympy==1.13.1->torch) (1.3.0)\n",
            "Requirement already satisfied: numpy in /usr/local/lib/python3.11/dist-packages (from torchvision) (1.26.4)\n",
            "Requirement already satisfied: pillow!=8.3.*,>=5.3.0 in /usr/local/lib/python3.11/dist-packages (from torchvision) (11.1.0)\n",
            "Requirement already satisfied: MarkupSafe>=2.0 in /usr/local/lib/python3.11/dist-packages (from jinja2->torch) (3.0.2)\n",
            "Requirement already satisfied: opencv-python in /usr/local/lib/python3.11/dist-packages (4.11.0.86)\n",
            "Requirement already satisfied: numpy>=1.21.2 in /usr/local/lib/python3.11/dist-packages (from opencv-python) (1.26.4)\n"
          ]
        }
      ]
    },
    {
      "cell_type": "code",
      "execution_count": 12,
      "metadata": {
        "id": "rIhSyQpjAWcA"
      },
      "outputs": [],
      "source": [
        "import cv2\n",
        "import mediapipe as mp\n",
        "import numpy as np\n",
        "from collections import deque\n",
        "\n",
        "# Initialize MediaPipe Hands\n",
        "mp_hands = mp.solutions.hands\n",
        "hand_detector = mp_hands.Hands(static_image_mode=False, max_num_hands=2, min_detection_confidence=0.7)\n",
        "\n",
        "# Use a deque to track previous bounding boxes for smoothing\n",
        "hand_history = deque(maxlen=5)\n",
        "\n",
        "def detect_hands_in_frame(image):\n",
        "    \"\"\" Detect hands and return bounding boxes. \"\"\"\n",
        "    image_rgb = cv2.cvtColor(image, cv2.COLOR_BGR2RGB)\n",
        "    results = hand_detector.process(image_rgb)\n",
        "\n",
        "    hand_boxes = []\n",
        "    if results.multi_hand_landmarks:\n",
        "        height, width, _ = image.shape\n",
        "        for hand_landmarks in results.multi_hand_landmarks:\n",
        "            x_coords = [lm.x * width for lm in hand_landmarks.landmark]\n",
        "            y_coords = [lm.y * height for lm in hand_landmarks.landmark]\n",
        "            x_min, x_max = int(min(x_coords)), int(max(x_coords))\n",
        "            y_min, y_max = int(min(y_coords)), int(max(y_coords))\n",
        "            hand_boxes.append((x_min, y_min, x_max, y_max))\n",
        "\n",
        "    # Store only valid detections\n",
        "    if hand_boxes:\n",
        "        hand_history.append(hand_boxes)\n",
        "\n",
        "    # Apply smoothing only if history is not empty\n",
        "    if hand_history:\n",
        "        smoothed_boxes = []\n",
        "        for i in range(len(hand_boxes)):\n",
        "            # Gather corresponding boxes from history\n",
        "            past_boxes = [frame[i] for frame in hand_history if len(frame) > i]\n",
        "            if past_boxes:\n",
        "                smoothed_box = np.mean(past_boxes, axis=0).astype(int).tolist()\n",
        "                smoothed_boxes.append(smoothed_box)\n",
        "        return smoothed_boxes\n",
        "    else:\n",
        "        return []"
      ]
    },
    {
      "cell_type": "code",
      "source": [
        "!pip install segment-anything\n",
        "#!wget -O sam_vit_b_01ec64.pth https://dl.fbaipublicfiles.com/segment_anything/sam_vit_b_4b8939.pth"
      ],
      "metadata": {
        "colab": {
          "base_uri": "https://localhost:8080/"
        },
        "id": "EGzyyB8qFp0P",
        "outputId": "e7282d03-7122-4031-8e7d-5396aecece3c"
      },
      "execution_count": 13,
      "outputs": [
        {
          "output_type": "stream",
          "name": "stdout",
          "text": [
            "Requirement already satisfied: segment-anything in /usr/local/lib/python3.11/dist-packages (1.0)\n"
          ]
        }
      ]
    },
    {
      "cell_type": "code",
      "source": [
        "from google.colab import drive\n",
        "drive.mount('/content/drive')"
      ],
      "metadata": {
        "colab": {
          "base_uri": "https://localhost:8080/"
        },
        "id": "vAb2pOgi9UOa",
        "outputId": "9105da52-f833-4e1a-b29e-50d7d1d18971"
      },
      "execution_count": 14,
      "outputs": [
        {
          "output_type": "stream",
          "name": "stdout",
          "text": [
            "Drive already mounted at /content/drive; to attempt to forcibly remount, call drive.mount(\"/content/drive\", force_remount=True).\n"
          ]
        }
      ]
    },
    {
      "cell_type": "code",
      "source": [
        "#file_path = '/content/drive/My Drive/sam_vit_b_01ec64.pth'"
      ],
      "metadata": {
        "id": "N7Eeq9XMHQIW"
      },
      "execution_count": 15,
      "outputs": []
    },
    {
      "cell_type": "code",
      "source": [
        "def track_hands_with_sam2(video_path, output_path):\n",
        "    \"\"\" Track hands using bounding box. \"\"\"\n",
        "    cap = cv2.VideoCapture(video_path)\n",
        "    fps = cap.get(cv2.CAP_PROP_FPS)\n",
        "    frame_width = int(cap.get(cv2.CAP_PROP_FRAME_WIDTH))\n",
        "    frame_height = int(cap.get(cv2.CAP_PROP_FRAME_HEIGHT))\n",
        "\n",
        "    fourcc = cv2.VideoWriter_fourcc(*'XVID')\n",
        "    out = cv2.VideoWriter(output_path, fourcc, fps, (frame_width, frame_height))\n",
        "\n",
        "    frame_num = 0\n",
        "    while cap.isOpened():\n",
        "        ret, frame = cap.read()\n",
        "        if not ret:\n",
        "            break\n",
        "\n",
        "        hand_boxes = detect_hands_in_frame(frame)\n",
        "        masks = []\n",
        "\n",
        "        for (x_min, y_min, x_max, y_max) in hand_boxes:\n",
        "            mask = np.zeros((frame_height, frame_width), dtype=np.uint8)\n",
        "            mask[y_min:y_max, x_min:x_max] = 255\n",
        "            mask = np.stack([mask] * 3, axis=-1)\n",
        "            masks.append(mask)\n",
        "\n",
        "        alpha = 0.5\n",
        "        masked_frame = frame.copy()\n",
        "        for mask in masks:\n",
        "            masked_frame[mask[:, :, 0] > 0] = (\n",
        "                masked_frame[mask[:, :, 0] > 0] * (1 - alpha) + np.array([0, 255, 0]) * alpha\n",
        "            ).astype(np.uint8)\n",
        "\n",
        "        out.write(masked_frame)\n",
        "        frame_num += 1\n",
        "\n",
        "    cap.release()\n",
        "    out.release()\n",
        "    print(f\"Processed video saved to {output_path}\")\n",
        "\n"
      ],
      "metadata": {
        "id": "hP7UdMhtEM9a"
      },
      "execution_count": 19,
      "outputs": []
    },
    {
      "cell_type": "code",
      "source": [
        "# Run the tracker\n",
        "input_video_path = \"test.mp4\"\n",
        "output_video_path = \"tracked_output_fixed.mp4\"\n",
        "track_hands_with_sam2(input_video_path, output_video_path)\n"
      ],
      "metadata": {
        "id": "oJ0Y8r0L3UHN",
        "colab": {
          "base_uri": "https://localhost:8080/"
        },
        "outputId": "fd37e33f-8484-4956-b1ea-ae8ee79f85f2"
      },
      "execution_count": 20,
      "outputs": [
        {
          "output_type": "stream",
          "name": "stdout",
          "text": [
            "Processed video saved to tracked_output_fixed.mp4\n"
          ]
        }
      ]
    },
    {
      "cell_type": "code",
      "source": [],
      "metadata": {
        "id": "6fX_Sj0bgAJU"
      },
      "execution_count": null,
      "outputs": []
    }
  ]
}